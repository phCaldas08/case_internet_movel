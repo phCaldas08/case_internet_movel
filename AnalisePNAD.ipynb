{
 "cells": [
  {
   "cell_type": "markdown",
   "metadata": {},
   "source": [
    "# Case Análise PNAD"
   ]
  },
  {
   "cell_type": "markdown",
   "metadata": {},
   "source": [
    "### Objetivo: \n",
    "#### Projetar modelo de aprendizagem de máquina para prever se uma pessoa possui acesso a internet via celular ou não."
   ]
  },
  {
   "cell_type": "markdown",
   "metadata": {},
   "source": [
    "#### Abaixo segue a tabela criada para a decisão de quais variáveis utilizar no modelo, para esta decisão foi levado em conta as condições:\n",
    "\n",
    "Porcentagem de valores preenchidos maior que 70%.                                                                         \n",
    "Desvios relevantes ( > 5 %).                                                                                              \n",
    "Análise detalhada de dispersão dos dados de algumas colunas como uf e idade.                                               \n",
    "Remoção de variáveis correlacionadas.                                                                                      \n",
    "\n",
    "#### Tabela também presente no aquivo \"Analise.xlsx\".\n",
    "\n",
    "*Para Melhor visualizar a tabela, selecione a célula.\n",
    "\n",
    "Colunas PNAD          \t                       | Valores não NaN. |  Desv. Médio\t |  Desv. Padrão  |\tUtilizada no modelo\n",
    "uf...............................................100,00%.............2,37%..............2,84%...........Sim\n",
    "sexo.............................................100,00%.............1,47%..............2,07%...........Não\n",
    "idade............................................100,00%.............0,55%..............0,61%...........Sim\n",
    "condicao_domiciliar..............................100,00%.............12,89%.............15,23%..........Sim\n",
    "raca.............................................100,00%.............18,84%.............22,26%..........Sim\n",
    "estado_civil.................................... 59,39%..............14,25%.............19,99%..........Não\n",
    "alfabetizado.....................................100,00%.............35,17%.............49,74%..........Sim\n",
    "estuda...........................................100,00%.............22,68%.............32,07%..........Sim\n",
    "internet_via_celular.............................100,00%.............5,23%..............7,39%...........Classificação\n",
    "trabalha.........................................86,47%..............0,99%..............1,40%...........Não\n",
    "idade_inicio_trabalho............................49,60%..............5,49%..............6,70%...........Não\n",
    "responsavel_afazeres_domesticos..................86,47%..............18,18%.............25,71%..........Sim\n",
    "horas_semanais_trabalho..........................43,30%..............6,08%..............8,38%...........Não\n",
    "ativo_economicamente.............................86,47%..............10,82%.............15,31%..........Sim\n",
    "ocupado..........................................50,39%..............25,19%.............35,63%..........Não\n",
    "posicao_trabalho.................................50,18%..............4,49%..............6,07%...........Não\n",
    "atividade........................................50,34%..............2,01%..............2,58%...........Não\n",
    "ocupacao.........................................50,38%..............2,81%..............3,89%...........Não\n",
    "tipo_familia.....................................100,00%.............1,72%..............1,49%...........Sim\n",
    "situacao_censitaria..............................100,00%.............35,33%.............49,97%..........Sim\n",
    "anos_de_estudo...................................100,00%.............6,57%..............8,51%...........Sim componentes_domicilio............................99,83%..............6,95%..............8,94%...........Sim rendimento_mensal................................96,38%..............9,13%..............11,10%..........Sim\n",
    "nivel_de_instrucao...............................100,00%.............8,62%..............10,66%..........Sim\n",
    "atividade_agricola...............................43,72%..............21,86%.............30,92%..........Não\n",
    "inss.............................................100,00%.............36,58%.............51,73%..........Sim"
   ]
  },
  {
   "cell_type": "markdown",
   "metadata": {},
   "source": [
    "#### Definir previsores e classes de acordo com as colunas selecionadas em análise prévia\n"
   ]
  },
  {
   "cell_type": "code",
   "execution_count": 1,
   "metadata": {},
   "outputs": [],
   "source": [
    "import pandas as pd\n",
    "previsores = pd.read_csv(\"pnad.csv\", usecols={\n",
    "        'alfabetizado',\n",
    "        'anos_de_estudo',\n",
    "        'ativo_economicamente',\n",
    "        'componentes_domicilio',\n",
    "        'condicao_domiciliar',\n",
    "        'idade',\n",
    "        'estuda',\n",
    "        'inss',\n",
    "        'nivel_de_instrucao',\n",
    "        'raca',\n",
    "        'rendimento_mensal',\n",
    "        'responsavel_afazeres_domesticos',\n",
    "        'situacao_censitaria',\n",
    "        'tipo_familia',\n",
    "        'uf'})\n",
    "\n",
    "classes = pd.read_csv(\"pnad.csv\", usecols={'internet_via_celular'}).values"
   ]
  },
  {
   "cell_type": "markdown",
   "metadata": {},
   "source": [
    "#### Definir lista com colunas do tipo texto, e salvar seus valores distintos em uma lista \"de-para\"."
   ]
  },
  {
   "cell_type": "code",
   "execution_count": 2,
   "metadata": {},
   "outputs": [],
   "source": [
    "colunas_texto = ['rendimento_mensal', \n",
    "                 'nivel_de_instrucao',\n",
    "                 'raca',\n",
    "                 'uf',\n",
    "                 'condicao_domiciliar',\n",
    "                 'tipo_familia',\n",
    "                 'situacao_censitaria', \n",
    "                 'anos_de_estudo' ]\n",
    "\n",
    "lista_de_para = []\n",
    "\n",
    "for coluna in colunas_texto:\n",
    "    tempListDistinct = list(set(previsores[coluna].values))\n",
    "    lista_de_para.append({ coluna : tempListDistinct})"
   ]
  },
  {
   "cell_type": "markdown",
   "metadata": {},
   "source": [
    "#### Realizar a alteração dos valores textos para cada indice da lista \"de-para\" para realizar o treinamento do modelo."
   ]
  },
  {
   "cell_type": "code",
   "execution_count": 3,
   "metadata": {},
   "outputs": [],
   "source": [
    "for coluna in colunas_texto:\n",
    "    lista_valores_distintos = lista_de_para[colunas_texto.index(coluna)][coluna]\n",
    "    for valor in lista_valores_distintos:\n",
    "        previsores.loc[previsores[coluna] == valor, coluna] = lista_valores_distintos.index(valor)"
   ]
  },
  {
   "cell_type": "markdown",
   "metadata": {},
   "source": [
    "#### Substituir valores NaN pela moda da coleção."
   ]
  },
  {
   "cell_type": "code",
   "execution_count": 4,
   "metadata": {},
   "outputs": [
    {
     "name": "stderr",
     "output_type": "stream",
     "text": [
      "C:\\Users\\HP\\Anaconda3\\lib\\site-packages\\sklearn\\utils\\deprecation.py:58: DeprecationWarning: Class Imputer is deprecated; Imputer was deprecated in version 0.20 and will be removed in 0.22. Import impute.SimpleImputer from sklearn instead.\n",
      "  warnings.warn(msg, category=DeprecationWarning)\n"
     ]
    }
   ],
   "source": [
    "from sklearn.preprocessing import Imputer\n",
    "imputer = Imputer(missing_values = 'NaN', strategy='most_frequent', axis=0)\n",
    "imputer = imputer.fit(previsores)\n",
    "\n",
    "previsores = imputer.transform(previsores)"
   ]
  },
  {
   "cell_type": "markdown",
   "metadata": {},
   "source": [
    "#### Treinar modelo com 75% das amostras."
   ]
  },
  {
   "cell_type": "code",
   "execution_count": 5,
   "metadata": {},
   "outputs": [
    {
     "name": "stderr",
     "output_type": "stream",
     "text": [
      "C:\\Users\\HP\\Anaconda3\\lib\\site-packages\\sklearn\\utils\\validation.py:761: DataConversionWarning: A column-vector y was passed when a 1d array was expected. Please change the shape of y to (n_samples, ), for example using ravel().\n",
      "  y = column_or_1d(y, warn=True)\n"
     ]
    },
    {
     "data": {
      "text/plain": [
       "GaussianNB(priors=None, var_smoothing=1e-09)"
      ]
     },
     "execution_count": 5,
     "metadata": {},
     "output_type": "execute_result"
    }
   ],
   "source": [
    "tamanho_treino = int(len(classes) * 0.75)\n",
    "\n",
    "from sklearn.naive_bayes import GaussianNB\n",
    "modelo = GaussianNB()\n",
    "modelo.fit(previsores[:tamanho_treino], classes[:tamanho_treino])"
   ]
  },
  {
   "cell_type": "markdown",
   "metadata": {},
   "source": [
    "#### Realizar previsões dos 25% restantes dos dados para validar modelo."
   ]
  },
  {
   "cell_type": "code",
   "execution_count": 6,
   "metadata": {},
   "outputs": [],
   "source": [
    "previsao = modelo.predict(previsores[tamanho_treino:])"
   ]
  },
  {
   "cell_type": "markdown",
   "metadata": {},
   "source": [
    "#### Pegar resultados obtidos para validar porcentagem de acertos"
   ]
  },
  {
   "cell_type": "code",
   "execution_count": 7,
   "metadata": {},
   "outputs": [
    {
     "name": "stdout",
     "output_type": "stream",
     "text": [
      "Porcentagem de acertos: 71.13285365252281%\n"
     ]
    }
   ],
   "source": [
    "dados_validacao = []\n",
    "for resultado in classes[tamanho_treino:]: \n",
    "    dados_validacao.append(int(resultado[0]))\n",
    "\n",
    "resultados = dados_validacao == previsao\n",
    "\n",
    "print(\"Porcentagem de acertos: {}%\".format(sum(resultados)* 100 / len (classes[tamanho_treino:])))"
   ]
  }
 ],
 "metadata": {
  "kernelspec": {
   "display_name": "Python 3",
   "language": "python",
   "name": "python3"
  },
  "language_info": {
   "codemirror_mode": {
    "name": "ipython",
    "version": 3
   },
   "file_extension": ".py",
   "mimetype": "text/x-python",
   "name": "python",
   "nbconvert_exporter": "python",
   "pygments_lexer": "ipython3",
   "version": "3.7.3"
  }
 },
 "nbformat": 4,
 "nbformat_minor": 2
}
